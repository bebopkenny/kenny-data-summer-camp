{
 "cells": [
  {
   "cell_type": "code",
   "execution_count": 16,
   "metadata": {},
   "outputs": [],
   "source": [
    "import pandas as pd\n",
    "import matplotlib.pyplot as plt"
   ]
  },
  {
   "cell_type": "code",
   "execution_count": 10,
   "metadata": {},
   "outputs": [
    {
     "data": {
      "text/html": [
       "<div>\n",
       "<style scoped>\n",
       "    .dataframe tbody tr th:only-of-type {\n",
       "        vertical-align: middle;\n",
       "    }\n",
       "\n",
       "    .dataframe tbody tr th {\n",
       "        vertical-align: top;\n",
       "    }\n",
       "\n",
       "    .dataframe thead th {\n",
       "        text-align: right;\n",
       "    }\n",
       "</style>\n",
       "<table border=\"1\" class=\"dataframe\">\n",
       "  <thead>\n",
       "    <tr style=\"text-align: right;\">\n",
       "      <th></th>\n",
       "      <th>Month</th>\n",
       "      <th>RowID</th>\n",
       "      <th>Response ID</th>\n",
       "      <th>Overall, how satisfied are you with your experience living on campus at SDSU in the last 30 days?</th>\n",
       "      <th>Please explain why you are not satisfied with your experience living on campus at SDSU:</th>\n",
       "      <th>Front Desk</th>\n",
       "      <th>Wepa Printing Kiosk</th>\n",
       "      <th>Laundry Facilities</th>\n",
       "      <th>Outdoor Recreation Facilities (pool, patio, fire pit, etc.)</th>\n",
       "      <th>The UPS Store</th>\n",
       "      <th>...</th>\n",
       "      <th>Country</th>\n",
       "      <th>Residency</th>\n",
       "      <th>RLC_Updated</th>\n",
       "      <th>RLC_GroupCoded</th>\n",
       "      <th>Coded_RoomType</th>\n",
       "      <th>Coded_ClassLevel</th>\n",
       "      <th>Classification</th>\n",
       "      <th>Gender</th>\n",
       "      <th>Type of Building</th>\n",
       "      <th>AttendStatus</th>\n",
       "    </tr>\n",
       "  </thead>\n",
       "  <tbody>\n",
       "    <tr>\n",
       "      <th>0</th>\n",
       "      <td>October</td>\n",
       "      <td>101</td>\n",
       "      <td>R_Y3LSnMS91cFvTUZ</td>\n",
       "      <td>Satisfied</td>\n",
       "      <td>Did not answer</td>\n",
       "      <td>Yes</td>\n",
       "      <td>Yes</td>\n",
       "      <td>Yes</td>\n",
       "      <td>Yes</td>\n",
       "      <td>Yes</td>\n",
       "      <td>...</td>\n",
       "      <td>United States of America</td>\n",
       "      <td>California Resident</td>\n",
       "      <td>No Theme or Residential Learning/Living Community</td>\n",
       "      <td>No Learning Community</td>\n",
       "      <td>Single</td>\n",
       "      <td>Junior</td>\n",
       "      <td>Returning</td>\n",
       "      <td>M</td>\n",
       "      <td>Sophomore and Upper Div</td>\n",
       "      <td>ATTENDING</td>\n",
       "    </tr>\n",
       "    <tr>\n",
       "      <th>1</th>\n",
       "      <td>October</td>\n",
       "      <td>677</td>\n",
       "      <td>R_1MSpOeErO1vMEno</td>\n",
       "      <td>Satisfied</td>\n",
       "      <td>Did not answer</td>\n",
       "      <td>Yes</td>\n",
       "      <td>No</td>\n",
       "      <td>Yes</td>\n",
       "      <td>Yes</td>\n",
       "      <td>Yes</td>\n",
       "      <td>...</td>\n",
       "      <td>India</td>\n",
       "      <td>Foreign</td>\n",
       "      <td>No Theme or Residential Learning/Living Community</td>\n",
       "      <td>No Learning Community</td>\n",
       "      <td>Single</td>\n",
       "      <td>Freshman</td>\n",
       "      <td>Continuing</td>\n",
       "      <td>M</td>\n",
       "      <td>Sophomore and Upper Div</td>\n",
       "      <td>ATTENDING</td>\n",
       "    </tr>\n",
       "    <tr>\n",
       "      <th>2</th>\n",
       "      <td>October</td>\n",
       "      <td>667</td>\n",
       "      <td>R_28zIRj9xXv5UT2p</td>\n",
       "      <td>Satisfied</td>\n",
       "      <td>Did not answer</td>\n",
       "      <td>Yes</td>\n",
       "      <td>Not Applicable</td>\n",
       "      <td>Yes</td>\n",
       "      <td>No</td>\n",
       "      <td>Yes</td>\n",
       "      <td>...</td>\n",
       "      <td>United States of America</td>\n",
       "      <td>California Resident</td>\n",
       "      <td>No Theme or Residential Learning/Living Community</td>\n",
       "      <td>No Learning Community</td>\n",
       "      <td>Student Leader/Staff</td>\n",
       "      <td>Graduate</td>\n",
       "      <td>Graduate</td>\n",
       "      <td>F</td>\n",
       "      <td>Sophomore and Upper Div</td>\n",
       "      <td>ATTENDING</td>\n",
       "    </tr>\n",
       "    <tr>\n",
       "      <th>3</th>\n",
       "      <td>October</td>\n",
       "      <td>270</td>\n",
       "      <td>R_2CqOiVX3yrj9Rd4</td>\n",
       "      <td>Satisfied</td>\n",
       "      <td>Did not answer</td>\n",
       "      <td>Yes</td>\n",
       "      <td>Yes</td>\n",
       "      <td>Yes</td>\n",
       "      <td>Yes</td>\n",
       "      <td>Yes</td>\n",
       "      <td>...</td>\n",
       "      <td>United States of America</td>\n",
       "      <td>California Resident</td>\n",
       "      <td>No Theme or Residential Learning/Living Community</td>\n",
       "      <td>No Learning Community</td>\n",
       "      <td>Student Leader/Staff</td>\n",
       "      <td>Senior</td>\n",
       "      <td>Returning</td>\n",
       "      <td>M</td>\n",
       "      <td>First Year</td>\n",
       "      <td>ATTENDING</td>\n",
       "    </tr>\n",
       "    <tr>\n",
       "      <th>4</th>\n",
       "      <td>October</td>\n",
       "      <td>341</td>\n",
       "      <td>R_3Jla1YNQA0hntPd</td>\n",
       "      <td>Satisfied</td>\n",
       "      <td>Did not answer</td>\n",
       "      <td>Not Applicable</td>\n",
       "      <td>Not Applicable</td>\n",
       "      <td>Yes</td>\n",
       "      <td>Not Applicable</td>\n",
       "      <td>Yes</td>\n",
       "      <td>...</td>\n",
       "      <td>United States of America</td>\n",
       "      <td>Out of State</td>\n",
       "      <td>No Theme or Residential Learning/Living Community</td>\n",
       "      <td>No Learning Community</td>\n",
       "      <td>Double</td>\n",
       "      <td>Sophomore</td>\n",
       "      <td>Returning</td>\n",
       "      <td>F</td>\n",
       "      <td>Sophomore and Upper Div</td>\n",
       "      <td>ATTENDING</td>\n",
       "    </tr>\n",
       "  </tbody>\n",
       "</table>\n",
       "<p>5 rows × 96 columns</p>\n",
       "</div>"
      ],
      "text/plain": [
       "     Month  RowID        Response ID  \\\n",
       "0  October    101  R_Y3LSnMS91cFvTUZ   \n",
       "1  October    677  R_1MSpOeErO1vMEno   \n",
       "2  October    667  R_28zIRj9xXv5UT2p   \n",
       "3  October    270  R_2CqOiVX3yrj9Rd4   \n",
       "4  October    341  R_3Jla1YNQA0hntPd   \n",
       "\n",
       "  Overall, how satisfied are you with your experience living on campus at SDSU in the last 30 days?  \\\n",
       "0                                          Satisfied                                                  \n",
       "1                                          Satisfied                                                  \n",
       "2                                          Satisfied                                                  \n",
       "3                                          Satisfied                                                  \n",
       "4                                          Satisfied                                                  \n",
       "\n",
       "  Please explain why you are not satisfied with your experience living on campus at SDSU:  \\\n",
       "0                                     Did not answer                                        \n",
       "1                                     Did not answer                                        \n",
       "2                                     Did not answer                                        \n",
       "3                                     Did not answer                                        \n",
       "4                                     Did not answer                                        \n",
       "\n",
       "       Front Desk Wepa Printing Kiosk Laundry Facilities  \\\n",
       "0             Yes                 Yes                Yes   \n",
       "1             Yes                  No                Yes   \n",
       "2             Yes      Not Applicable                Yes   \n",
       "3             Yes                 Yes                Yes   \n",
       "4  Not Applicable      Not Applicable                Yes   \n",
       "\n",
       "  Outdoor Recreation Facilities (pool, patio, fire pit, etc.) The UPS Store  \\\n",
       "0                                                Yes                    Yes   \n",
       "1                                                Yes                    Yes   \n",
       "2                                                 No                    Yes   \n",
       "3                                                Yes                    Yes   \n",
       "4                                     Not Applicable                    Yes   \n",
       "\n",
       "   ...                   Country            Residency  \\\n",
       "0  ...  United States of America  California Resident   \n",
       "1  ...                     India              Foreign   \n",
       "2  ...  United States of America  California Resident   \n",
       "3  ...  United States of America  California Resident   \n",
       "4  ...  United States of America         Out of State   \n",
       "\n",
       "                                         RLC_Updated         RLC_GroupCoded  \\\n",
       "0  No Theme or Residential Learning/Living Community  No Learning Community   \n",
       "1  No Theme or Residential Learning/Living Community  No Learning Community   \n",
       "2  No Theme or Residential Learning/Living Community  No Learning Community   \n",
       "3  No Theme or Residential Learning/Living Community  No Learning Community   \n",
       "4  No Theme or Residential Learning/Living Community  No Learning Community   \n",
       "\n",
       "         Coded_RoomType Coded_ClassLevel Classification Gender  \\\n",
       "0                Single           Junior      Returning      M   \n",
       "1                Single         Freshman     Continuing      M   \n",
       "2  Student Leader/Staff         Graduate       Graduate      F   \n",
       "3  Student Leader/Staff           Senior      Returning      M   \n",
       "4                Double        Sophomore      Returning      F   \n",
       "\n",
       "          Type of Building AttendStatus  \n",
       "0  Sophomore and Upper Div    ATTENDING  \n",
       "1  Sophomore and Upper Div    ATTENDING  \n",
       "2  Sophomore and Upper Div    ATTENDING  \n",
       "3               First Year    ATTENDING  \n",
       "4  Sophomore and Upper Div    ATTENDING  \n",
       "\n",
       "[5 rows x 96 columns]"
      ]
     },
     "execution_count": 10,
     "metadata": {},
     "output_type": "execute_result"
    }
   ],
   "source": [
    "first_data = pd.read_csv('./MainData AY 23-24 Oct 2023.csv')\n",
    "first_data.head()"
   ]
  },
  {
   "cell_type": "code",
   "execution_count": 4,
   "metadata": {},
   "outputs": [
    {
     "data": {
      "text/plain": [
       "Index(['Month', 'RowID', 'Response ID',\n",
       "       'Overall, how satisfied are you with your experience living on campus at SDSU in the last 30 days?',\n",
       "       'Please explain why you are not satisfied with your experience living on campus at SDSU:',\n",
       "       'Front Desk', 'Wepa Printing Kiosk', 'Laundry Facilities',\n",
       "       'Outdoor Recreation Facilities (pool, patio, fire pit, etc.)',\n",
       "       'The UPS Store', 'Streeme TV or Cable', 'WiFi',\n",
       "       'Residential Bike Storage and Bike Racks', 'Surfboard Storage',\n",
       "       'Community Study Areas', 'Community Kitchens', 'Vending Machines',\n",
       "       'Have you utilized a STAR Center in the last 30 days?',\n",
       "       'Please explain why you are not using the Star Center:',\n",
       "       'Cleanliness of your residential community common areas (bathrooms, laundry rooms, hallways, lounges)',\n",
       "       'Maintenance of your residential community (furniture, utilities, appliances)',\n",
       "       'Amenities of your residential community (i.e., wifi, lounges, furniture, laundry, outdoor recreational spaces)',\n",
       "       'Please explain why you are unsatisfied with the Cleanliness, Maintenance, or Amenities of your residential community:',\n",
       "       'Within your residential community', 'Overall on campus',\n",
       "       'Off campus, but within 1 mile of the university',\n",
       "       'Please tell us how the safety conditions on campus can be improved:',\n",
       "       'Have you submitted a service request in the last 30 days?',\n",
       "       'Please select the reason for why you have not submitted a service request in the last 30 days: - Selected Choice',\n",
       "       'Other, please specify Text for why you have not submitted a service request in the last 30 days',\n",
       "       'To what degree do you agree or disagree with the following statement? I consider the responsibility of keeping the communal areas (bathrooms, laundry rooms, hallways, lounge) tidy as a shared responsibility amongst residents.',\n",
       "       'How many total people live in your suite or apartment unit?',\n",
       "       'In the last 30 days, how would you describe your relationship with your roommate(s)? - Selected Choice',\n",
       "       'Other, please specify Text for how would you describe your relationship with your roommate(s) in last 30 days?',\n",
       "       'I initiate open communication and discussion',\n",
       "       'I seek advice from my parents or family',\n",
       "       'I use the Shared Living Agreement to guide discussion/conversation',\n",
       "       'I seek assistance from my student leader (RA or CA)',\n",
       "       'I seek assistance from my residence hall coordinator (RHC)',\n",
       "       'I have submitted a room switch request due to a roommate conflict',\n",
       "       'I avoid conflict or confrontation, so I don't address the issue.',\n",
       "       'My roommate(s) and I do not have any conflicts',\n",
       "       'You have indicated you have not reached out for support from your Residence Hall Coordinator (RHC) or student leader (RA or CA), please tell us why:',\n",
       "       'Feeling a sense of belonging within the university community (Sense of belonging is the feeling that we have satisfied our emotional need to belong to a community or group because we feel accepted, included, respected, and supported by a group)',\n",
       "       'Forming meaningful connections and friendships with other students within the university community',\n",
       "       'Feeling the university supports my personal and academic development',\n",
       "       'How can we improve your sense of belonging within the university community?',\n",
       "       'Attended a floor event or program',\n",
       "       'Participated in Hall/Community Council or an RHA event',\n",
       "       'Participated in an affinity group event',\n",
       "       'Why didn't you participate in activities or events in your residential community?',\n",
       "       'Attended a campus event',\n",
       "       'Participated in a campus club or organization',\n",
       "       'Participated in Greek life', 'Participated in undergraduate research',\n",
       "       'Participated in an internship on campus',\n",
       "       'Participated in an internship off campus', 'Worked a job on campus',\n",
       "       'Worked a job off campus',\n",
       "       'Participated in a religious or spiritual group',\n",
       "       'Participated in a volunteer or community service organization',\n",
       "       'Other for have you participated in the following extracurricular activities or events In the last 30 days?',\n",
       "       'Other, please specify te for have you participated in the following extracurricular activities or events In the last 30 days?',\n",
       "       'Fellow students in my residential community',\n",
       "       'Student leaders (RA or CA)', 'Residence Hall Coordinator (RHC)',\n",
       "       'Coordinated Care Advisor (CCA)',\n",
       "       'One-on-one meetings with professors or instructors',\n",
       "       'Major or program advisor',\n",
       "       'Classmates or fellow students in my program or courses',\n",
       "       'Campus staff (administrative, support, or service staff)',\n",
       "       'Eat at an on campus eatery (Food trucks, restaurants, food court)',\n",
       "       'Prepared a meal on my own', 'Eat with friends', 'Eat alone',\n",
       "       'how confident are you that you can make healthy food choices?',\n",
       "       'how confident are you in preparing a nutritious, healthy meal for yourself?',\n",
       "       'Have you reached out to Well-being & Health Promotion for nutritional resources? If not, why not?',\n",
       "       'How would you rate your mental health during the last 30 days?',\n",
       "       'Have you reached out to SDSU Counseling and Psychological Services for mental health resources? If not, why not?',\n",
       "       'How would you rate your physical health during the last 30 days?',\n",
       "       'Have you reached out to Student Health Services for physical health resources? If not, why not?',\n",
       "       'In the last 30 days, have you been physically ill (e.g., flu, cold, etc.)?',\n",
       "       'Did you receive a medical diagnosis for your illness?', 'Hall',\n",
       "       'State', 'Country', 'Residency', 'RLC_Updated', 'RLC_GroupCoded',\n",
       "       'Coded_RoomType', 'Coded_ClassLevel', 'Classification', 'Gender',\n",
       "       'Type of Building', 'AttendStatus'],\n",
       "      dtype='object')"
      ]
     },
     "execution_count": 4,
     "metadata": {},
     "output_type": "execute_result"
    }
   ],
   "source": [
    "first_data.columns"
   ]
  },
  {
   "cell_type": "code",
   "execution_count": 5,
   "metadata": {},
   "outputs": [
    {
     "data": {
      "text/plain": [
       "RowID\n",
       "211    1\n",
       "101    1\n",
       "677    1\n",
       "667    1\n",
       "270    1\n",
       "      ..\n",
       "578    1\n",
       "199    1\n",
       "684    1\n",
       "441    1\n",
       "202    1\n",
       "Name: count, Length: 762, dtype: int64"
      ]
     },
     "execution_count": 5,
     "metadata": {},
     "output_type": "execute_result"
    }
   ],
   "source": [
    "first_data[\"RowID\"].value_counts()"
   ]
  },
  {
   "cell_type": "code",
   "execution_count": 8,
   "metadata": {},
   "outputs": [
    {
     "data": {
      "text/plain": [
       "<Axes: xlabel='How would you rate your mental health during the last 30 days?'>"
      ]
     },
     "execution_count": 8,
     "metadata": {},
     "output_type": "execute_result"
    },
    {
     "data": {
      "image/png": "[encoded data removed]",
      "text/plain": [
       "<Figure size 640x480 with 1 Axes>"
      ]
     },
     "metadata": {},
     "output_type": "display_data"
    }
   ],
   "source": [
    "first_data[\"How would you rate your mental health during the last 30 days?\"].value_counts().plot(kind='bar')"
   ]
  },
  {
   "cell_type": "code",
   "execution_count": 12,
   "metadata": {},
   "outputs": [
    {
     "name": "stdout",
     "output_type": "stream",
     "text": [
      "How would you rate your mental health during the last 30 days?\n",
      "Good              370\n",
      "Neutral           201\n",
      "Poor               89\n",
      "Excellent          88\n",
      "Very Poor          13\n",
      "Did not answer      1\n",
      "Name: count, dtype: int64\n"
     ]
    }
   ],
   "source": [
    "print(first_data[\"How would you rate your mental health during the last 30 days?\"].value_counts())"
   ]
  },
  {
   "cell_type": "code",
   "execution_count": 13,
   "metadata": {},
   "outputs": [],
   "source": [
    "mental_health_map = {\n",
    "    \"Very Poor\": 1,\n",
    "    \"Poor\": 2,\n",
    "    \"Neutral\": 3,\n",
    "    \"Good\": 4,\n",
    "    \"Excellent\": 5\n",
    "}"
   ]
  },
  {
   "cell_type": "code",
   "execution_count": 14,
   "metadata": {},
   "outputs": [],
   "source": [
    "first_data[\"mental_health_score\"] = first_data[\"How would you rate your mental health during the last 30 days?\"].map(mental_health_map)"
   ]
  },
  {
   "cell_type": "code",
   "execution_count": 15,
   "metadata": {},
   "outputs": [
    {
     "name": "stdout",
     "output_type": "stream",
     "text": [
      "  How would you rate your mental health during the last 30 days?  \\\n",
      "0                                               Good               \n",
      "1                                               Poor               \n",
      "2                                            Neutral               \n",
      "3                                               Good               \n",
      "4                                            Neutral               \n",
      "5                                               Good               \n",
      "6                                               Good               \n",
      "7                                          Excellent               \n",
      "8                                            Neutral               \n",
      "9                                               Good               \n",
      "\n",
      "   mental_health_score  \n",
      "0                  4.0  \n",
      "1                  2.0  \n",
      "2                  3.0  \n",
      "3                  4.0  \n",
      "4                  3.0  \n",
      "5                  4.0  \n",
      "6                  4.0  \n",
      "7                  5.0  \n",
      "8                  3.0  \n",
      "9                  4.0  \n"
     ]
    }
   ],
   "source": [
    "print(first_data[[\"How would you rate your mental health during the last 30 days?\", \"mental_health_score\"]].head(10))"
   ]
  },
  {
   "cell_type": "markdown",
   "metadata": {},
   "source": [
    "Second Column"
   ]
  },
  {
   "cell_type": "code",
   "execution_count": 18,
   "metadata": {},
   "outputs": [
    {
     "name": "stdout",
     "output_type": "stream",
     "text": [
      "Have you reached out to SDSU Counseling and Psychological Services for mental health resources? If not, why not?\n",
      "Did not answer                                                                                                                                                                                                                                                                674\n",
      "No, I have my own therapist.                                                                                                                                                                                                                                                    2\n",
      "No                                                                                                                                                                                                                                                                              2\n",
      "Yes                                                                                                                                                                                                                                                                             2\n",
      "Yes I have                                                                                                                                                                                                                                                                      2\n",
      "                                                                                                                                                                                                                                                                             ... \n",
      "No, I don't feel comfortable sharing the information with them.                                                                                                                                                                                                                 1\n",
      "I just overthink all of my assignments and still trying to adjust to the work load. I have been trying to improve and create more time for myself. I have met a few friends but it has been hard for me.                                                                        1\n",
      "No need                                                                                                                                                                                                                                                                         1\n",
      "I haven't reached out to the counseling and psychological services because I don't feel like I‚m in a state of crisis. I‚m not doing great, but if I go to counseling and they ask me what‚s wrong, I don't think I could tell them anything that they could help me with.      1\n",
      "No because I have heard bad things about it and that it is not very helpful                                                                                                                                                                                                     1\n",
      "Name: count, Length: 83, dtype: int64\n"
     ]
    }
   ],
   "source": [
    "print(first_data[\"Have you reached out to SDSU Counseling and Psychological Services for mental health resources? If not, why not?\"].value_counts(dropna=False))"
   ]
  },
  {
   "cell_type": "code",
   "execution_count": 19,
   "metadata": {},
   "outputs": [],
   "source": [
    "def encode_cps_response(response):\n",
    "    if pd.isnull(response):\n",
    "        return None\n",
    "    x = str(response).strip().lower()\n",
    "    if x == \"yes\":\n",
    "        return 1\n",
    "    if \"did not answer\" in x:\n",
    "        return 0\n",
    "    return 0\n",
    "first_data[\"reached_out_CPS\"] = first_data[\"Have you reached out to SDSU Counseling and Psychological Services for mental health resources? If not, why not?\"].apply(encode_cps_response)"
   ]
  },
  {
   "cell_type": "code",
   "execution_count": 21,
   "metadata": {},
   "outputs": [
    {
     "name": "stdout",
     "output_type": "stream",
     "text": [
      "  Have you reached out to SDSU Counseling and Psychological Services for mental health resources? If not, why not?  \\\n",
      "0                                     Did not answer                                                                 \n",
      "1                                Not yet but i might                                                                 \n",
      "2                                     Did not answer                                                                 \n",
      "3                                     Did not answer                                                                 \n",
      "4                                     Did not answer                                                                 \n",
      "5                                     Did not answer                                                                 \n",
      "6                                     Did not answer                                                                 \n",
      "7                                     Did not answer                                                                 \n",
      "8                                     Did not answer                                                                 \n",
      "9                                     Did not answer                                                                 \n",
      "\n",
      "   reached_out_CPS  \n",
      "0                0  \n",
      "1                0  \n",
      "2                0  \n",
      "3                0  \n",
      "4                0  \n",
      "5                0  \n",
      "6                0  \n",
      "7                0  \n",
      "8                0  \n",
      "9                0  \n",
      "reached_out_CPS\n",
      "0    759\n",
      "1      3\n",
      "Name: count, dtype: int64\n"
     ]
    }
   ],
   "source": [
    "print(first_data[[\"Have you reached out to SDSU Counseling and Psychological Services for mental health resources? If not, why not?\", \"reached_out_CPS\"]].head(10))\n",
    "print(first_data[\"reached_out_CPS\"].value_counts(dropna=False))"
   ]
  }
 ],
 "metadata": {
  "kernelspec": {
   "display_name": ".venv",
   "language": "python",
   "name": "python3"
  },
  "language_info": {
   "codemirror_mode": {
    "name": "ipython",
    "version": 3
   },
   "file_extension": ".py",
   "mimetype": "text/x-python",
   "name": "python",
   "nbconvert_exporter": "python",
   "pygments_lexer": "ipython3",
   "version": "3.9.23"
  }
 },
 "nbformat": 4,
 "nbformat_minor": 2
}
